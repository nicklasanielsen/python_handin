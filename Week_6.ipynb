{
 "cells": [
  {
   "cell_type": "markdown",
   "metadata": {},
   "source": [
    "# Week 5 handin"
   ]
  },
  {
   "cell_type": "markdown",
   "metadata": {},
   "source": [
    "## Assignments\n",
    "\n",
    "### Exercise 1\n",
    "\n",
    "Create a module containing a class with the following methods:\n",
    "1. __init__(self, url_list)\n",
    "2. download(url,filename) raises NotFoundException when url returns 404\n",
    "3. multi_download() uses threads to download multiple urls as text and stores filenames as a property\n",
    "4. __iter__() returns an iterator\n",
    "5. __next__() returns the next filename (and stops when there are no more)\n",
    "6. urllist_generator() returns a generator to loop through the urls\n",
    "7. avg_vowels(text) - a rough estimate on readability returns average number of vowels in the words of the text\n",
    "8. hardest_read() returns the filename of the text with the highest vowel score (use all the cpu cores on the computer for this work.\n",
    "\n",
    "### Exercise 2\n",
    "\n",
    "Create a notebook and import your module from above\n",
    "1. Find 10 books on https://www.gutenberg.org/browse/scores/top and download them using an object of the class you just created before\n",
    "2. Test the different methods of your class\n",
    "3. Make a bar plot with a sorted list of books on x-axis and avg vowels on y-axis"
   ]
  },
  {
   "cell_type": "markdown",
   "metadata": {},
   "source": [
    "## Status\n",
    "\n",
    "All done"
   ]
  },
  {
   "cell_type": "markdown",
   "metadata": {},
   "source": [
    "# Exercise 1\n",
    "\n",
    "All of the subtasks have been implemented in the file called `exercise_6.py`."
   ]
  },
  {
   "cell_type": "markdown",
   "metadata": {},
   "source": [
    "# Exercise 2"
   ]
  },
  {
   "cell_type": "code",
   "execution_count": 20,
   "metadata": {},
   "outputs": [],
   "source": [
    "from exercise_6 import book_handler # Indlæser mit modul\n",
    "import matplotlib.pyplot as plt # Skal bruges til at plotte senere\n",
    "\n",
    "urls = [] # Opretter et arrays til mit modul\n",
    "urls.append(\"https://www.gutenberg.org/files/84/84-0.txt\")\n",
    "urls.append(\"https://www.gutenberg.org/files/1342/1342-0.txt\")\n",
    "urls.append(\"https://www.gutenberg.org/files/64317/64317-0.txt\")\n",
    "urls.append(\"https://www.gutenberg.org/files/1080/1080-0.txt\")\n",
    "urls.append(\"https://www.gutenberg.org/files/2542/2542-0.txt\")\n",
    "urls.append(\"https://www.gutenberg.org/files/11/11-0.txt\")\n",
    "urls.append(\"https://www.gutenberg.org/files/98/98-0.txt\")\n",
    "urls.append(\"https://www.gutenberg.org/files/844/844-0.txt\")\n",
    "urls.append(\"https://www.gutenberg.org/cache/epub/5200/pg5200.txt\")\n",
    "urls.append(\"https://www.gutenberg.org/files/2701/2701-0.txt\")\n",
    "\n",
    "books = book_handler(urls)"
   ]
  },
  {
   "cell_type": "code",
   "execution_count": 3,
   "metadata": {},
   "outputs": [],
   "source": [
    "# Downloader alle bøgerne\n",
    "books.multi_download()"
   ]
  },
  {
   "cell_type": "code",
   "execution_count": 4,
   "metadata": {},
   "outputs": [
    {
     "name": "stdout",
     "output_type": "stream",
     "text": [
      "3.txt\n"
     ]
    }
   ],
   "source": [
    "# Finder den bog der er sværest af læse\n",
    "book = books.hardest_read()\n",
    "print(book)"
   ]
  },
  {
   "cell_type": "code",
   "execution_count": 5,
   "metadata": {},
   "outputs": [
    {
     "data": {
      "text/plain": [
       "['5.txt',\n",
       " '7.txt',\n",
       " '3.txt',\n",
       " '8.txt',\n",
       " '4.txt',\n",
       " '1.txt',\n",
       " '2.txt',\n",
       " '9.txt',\n",
       " '0.txt',\n",
       " '6.txt']"
      ]
     },
     "execution_count": 5,
     "metadata": {},
     "output_type": "execute_result"
    }
   ],
   "source": [
    "# Benytter klassens iterator\n",
    "[filename for filename in books]"
   ]
  },
  {
   "cell_type": "code",
   "execution_count": 6,
   "metadata": {},
   "outputs": [
    {
     "data": {
      "text/plain": [
       "['https://www.gutenberg.org/files/84/84-0.txt',\n",
       " 'https://www.gutenberg.org/files/1342/1342-0.txt',\n",
       " 'https://www.gutenberg.org/files/64317/64317-0.txt',\n",
       " 'https://www.gutenberg.org/files/1080/1080-0.txt',\n",
       " 'https://www.gutenberg.org/files/2542/2542-0.txt',\n",
       " 'https://www.gutenberg.org/files/11/11-0.txt',\n",
       " 'https://www.gutenberg.org/files/98/98-0.txt',\n",
       " 'https://www.gutenberg.org/files/844/844-0.txt',\n",
       " 'https://www.gutenberg.org/cache/epub/5200/pg5200.txt',\n",
       " 'https://www.gutenberg.org/files/2701/2701-0.txt']"
      ]
     },
     "execution_count": 6,
     "metadata": {},
     "output_type": "execute_result"
    }
   ],
   "source": [
    "# Benytter klassens generator\n",
    "[filename for filename in books.urllist_generator()]"
   ]
  },
  {
   "cell_type": "code",
   "execution_count": 31,
   "metadata": {},
   "outputs": [
    {
     "data": {
      "text/plain": [
       "([0, 1, 2], <a list of 3 Text major ticklabel objects>)"
      ]
     },
     "execution_count": 31,
     "metadata": {},
     "output_type": "execute_result"
    },
    {
     "data": {
      "image/png": "[encoded data removed]",
      "text/plain": [
       "<Figure size 432x288 with 1 Axes>"
      ]
     },
     "metadata": {
      "needs_background": "light"
     },
     "output_type": "display_data"
    }
   ],
   "source": [
    "# Downloader tre bøger og laver et bar plot\n",
    "urls.clear()\n",
    "urls.append(\"https://www.gutenberg.org/files/84/84-0.txt\")\n",
    "urls.append(\"https://www.gutenberg.org/files/1342/1342-0.txt\")\n",
    "urls.append(\"https://www.gutenberg.org/files/64317/64317-0.txt\")\n",
    "\n",
    "books = book_handler(urls)\n",
    "books.multi_download()\n",
    "\n",
    "book_data = {}\n",
    "\n",
    "for filename in books:\n",
    "    book_data[filename], _ = books.avg_vowels(filename)\n",
    "\n",
    "book_data = sorted(book_data.items())\n",
    "\n",
    "book_keys = []\n",
    "book_values = []\n",
    "\n",
    "for book in book_data:\n",
    "    book_keys.append(book[0])\n",
    "    book_values.append(book[1])\n",
    "\n",
    "plt.bar(book_keys, book_values, align = 'center')\n",
    "plt.xticks(rotation = 45, horizontalalignment = 'right', fontweight = 'light')"
   ]
  }
 ],
 "metadata": {
  "kernelspec": {
   "display_name": "Python 3",
   "language": "python",
   "name": "python3"
  },
  "language_info": {
   "codemirror_mode": {
    "name": "ipython",
    "version": 3
   },
   "file_extension": ".py",
   "mimetype": "text/x-python",
   "name": "python",
   "nbconvert_exporter": "python",
   "pygments_lexer": "ipython3",
   "version": "3.7.6"
  }
 },
 "nbformat": 4,
 "nbformat_minor": 4
}
